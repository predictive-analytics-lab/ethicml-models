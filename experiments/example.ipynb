{
 "cells": [
  {
   "cell_type": "code",
   "execution_count": 2,
   "metadata": {},
   "outputs": [],
   "source": [
    "import sys\n",
    "from pathlib import Path"
   ]
  },
  {
   "cell_type": "code",
   "execution_count": 1,
   "metadata": {},
   "outputs": [],
   "source": [
    "import ethicml\n",
    "from ethicml.algorithms.inprocess import GPyT, GPyTDemPar, GPyTEqOdds, LR, SVM, Agarwal, Kamiran, Kamishima\n",
    "from ethicml.evaluators import evaluate_models, CrossValidator, run_metrics\n",
    "from ethicml.data import Compas, Adult, load_data\n",
    "from ethicml.metrics import Accuracy, ProbPos, TPR, TNR, AbsCV\n",
    "from ethicml.preprocessing import train_test_split"
   ]
  },
  {
   "cell_type": "code",
   "execution_count": 18,
   "metadata": {},
   "outputs": [],
   "source": [
    "# tell the model where the \"run.py\" is\n",
    "file_name = Path('..') / \"run.py\"\n",
    "def gp(**kwargs):\n",
    "    return GPyT(file_name=file_name, executable=sys.executable, **kwargs)\n",
    "def gp_dp(**kwargs):\n",
    "    return GPyTDemPar(file_name=file_name, executable=sys.executable, **kwargs)\n",
    "def gp_eo(**kwargs):\n",
    "    return GPyTEqOdds(file_name=file_name, executable=sys.executable, **kwargs)"
   ]
  },
  {
   "cell_type": "code",
   "execution_count": 20,
   "metadata": {},
   "outputs": [],
   "source": [
    "# tnr_race_False = 0.724\n",
    "# tnr_race_True = 0.702\n",
    "# tnr_sex_True = 0.724\n",
    "# tnr_sex_False = 0.744\n",
    "tnr_in_true_race = 0.71\n",
    "tnr_in_false_race = 0.74\n",
    "tnr_in_true_sex = 0.72\n",
    "tnr_in_false_sex = 0.77"
   ]
  },
  {
   "cell_type": "code",
   "execution_count": 29,
   "metadata": {},
   "outputs": [],
   "source": [
    "algos = []\n",
    "\n",
    "# algos += [gp(epochs=2, s_as_input=True)]\n",
    "# algos += [gp_dp(epochs=70, s_as_input=True)]\n",
    "for tpr in [0.7]:\n",
    "    algos += [gp_eo(epochs=10, s_as_input=True, tnr1=tnr_in_true_race, tnr0=tnr_in_true_race, tpr0=tpr, tpr1=tpr)]\n",
    "    algos += [gp_eo(epochs=10, s_as_input=False, tnr1=tnr_in_false_race, tnr0=tnr_in_false_race, tpr0=tpr, tpr1=tpr)]\n",
    "\n",
    "baselines = [\n",
    "    LR(),\n",
    "    SVM(),\n",
    "    Agarwal(),\n",
    "    Kamiran(),\n",
    "#     Kamishima(),\n",
    "]\n",
    "# algos += baselines"
   ]
  },
  {
   "cell_type": "code",
   "execution_count": 30,
   "metadata": {},
   "outputs": [],
   "source": [
    "data = [\n",
    "    Compas(\"Race\"),\n",
    "#     Compas(\"Sex\"),\n",
    "#     Adult(\"Race\"),\n",
    "#     Adult(\"Sex\"),\n",
    "]"
   ]
  },
  {
   "cell_type": "code",
   "execution_count": 31,
   "metadata": {},
   "outputs": [
    {
     "name": "stderr",
     "output_type": "stream",
     "text": [
      " 50%|█████     | 1/2 [02:00<02:00, 120.10s/it, model=GPyT_eq_odds_in_False_0tnr_0.724_1tnr_0.724_0tpr_0.7_1tpr_0.7, dataset=Compas Race, transform=no_transform, repeat=0]"
     ]
    },
    {
     "name": "stdout",
     "output_type": "stream",
     "text": [
      "Success: ['../run.py', '--inf', 'Variational', '--data', 'sensitive_from_numpy', '--dataset_path', '/var/folders/3_/lt1vgb7n2m99r2wtx8pgxmnm000mry/T/tmpnado623y/data.npz', '--cov', 'RBFKernel', '--mean', 'ZeroMean', '--optimizer', 'Adam', '--lr', '0.05', '--model_name', 'local', '--batch_size', '4933', '--epochs', '10', '--eval_epochs', '100000', '--summary_steps', '100000', '--chkpt_epochs', '100000', '--save_dir', '/var/folders/3_/lt1vgb7n2m99r2wtx8pgxmnm000mry/T/tmpnado623y', '--plot', '', '--logging_steps', '1', '--gpus', '0', '--preds_path', 'predictions.npz', '--num_samples', '20', '--optimize_inducing', 'True', '--length_scale', '1.2', '--sf', '1.0', '--iso', 'False', '--num_samples_pred', '2000', '--s_as_input', 'True', '--num_inducing', '1245', '--manual_seed', '888', '--lik', 'TuneTprLikelihood', '--p_ybary0_s0', '0.702', '--p_ybary0_s1', '0.702', '--p_ybary1_s0', '0.7', '--p_ybary1_s1', '0.7', '--biased_acceptance1', '0.49050245098039214', '--biased_acceptance2', '0.39604553624925104', '--average_prediction', 'False', '--p_s0', '0.5', '--p_s1', '0.5'] (pid = 27389)\n"
     ]
    },
    {
     "name": "stderr",
     "output_type": "stream",
     "text": [
      "100%|██████████| 2/2 [04:05<00:00, 121.80s/it, model=GPyT_eq_odds_in_False_0tnr_0.724_1tnr_0.724_0tpr_0.7_1tpr_0.7, dataset=Compas Race, transform=no_transform, repeat=0]"
     ]
    },
    {
     "name": "stdout",
     "output_type": "stream",
     "text": [
      "Success: ['../run.py', '--inf', 'Variational', '--data', 'sensitive_from_numpy', '--dataset_path', '/var/folders/3_/lt1vgb7n2m99r2wtx8pgxmnm000mry/T/tmpad2ra3p9/data.npz', '--cov', 'RBFKernel', '--mean', 'ZeroMean', '--optimizer', 'Adam', '--lr', '0.05', '--model_name', 'local', '--batch_size', '4933', '--epochs', '10', '--eval_epochs', '100000', '--summary_steps', '100000', '--chkpt_epochs', '100000', '--save_dir', '/var/folders/3_/lt1vgb7n2m99r2wtx8pgxmnm000mry/T/tmpad2ra3p9', '--plot', '', '--logging_steps', '1', '--gpus', '0', '--preds_path', 'predictions.npz', '--num_samples', '20', '--optimize_inducing', 'True', '--length_scale', '1.2', '--sf', '1.0', '--iso', 'False', '--num_samples_pred', '2000', '--s_as_input', 'False', '--num_inducing', '1245', '--manual_seed', '888', '--lik', 'TuneTprLikelihood', '--p_ybary0_s0', '0.724', '--p_ybary0_s1', '0.724', '--p_ybary1_s0', '0.7', '--p_ybary1_s1', '0.7', '--biased_acceptance1', '0.49050245098039214', '--biased_acceptance2', '0.39604553624925104', '--average_prediction', 'False', '--p_s0', '0.5', '--p_s1', '0.5'] (pid = 27406)\n"
     ]
    },
    {
     "name": "stderr",
     "output_type": "stream",
     "text": [
      "\n"
     ]
    },
    {
     "data": {
      "text/html": [
       "<div>\n",
       "<style scoped>\n",
       "    .dataframe tbody tr th:only-of-type {\n",
       "        vertical-align: middle;\n",
       "    }\n",
       "\n",
       "    .dataframe tbody tr th {\n",
       "        vertical-align: top;\n",
       "    }\n",
       "\n",
       "    .dataframe thead th {\n",
       "        text-align: right;\n",
       "    }\n",
       "</style>\n",
       "<table border=\"1\" class=\"dataframe\">\n",
       "  <thead>\n",
       "    <tr style=\"text-align: right;\">\n",
       "      <th></th>\n",
       "      <th></th>\n",
       "      <th></th>\n",
       "      <th></th>\n",
       "      <th>Accuracy</th>\n",
       "      <th>TNR</th>\n",
       "      <th>TNR_race_0</th>\n",
       "      <th>TNR_race_0-race_1</th>\n",
       "      <th>TNR_race_0/race_1</th>\n",
       "      <th>TNR_race_1</th>\n",
       "      <th>TPR</th>\n",
       "      <th>TPR_race_0</th>\n",
       "      <th>TPR_race_0-race_1</th>\n",
       "      <th>TPR_race_0/race_1</th>\n",
       "      <th>TPR_race_1</th>\n",
       "      <th>prob_pos</th>\n",
       "      <th>prob_pos_race_0</th>\n",
       "      <th>prob_pos_race_0-race_1</th>\n",
       "      <th>prob_pos_race_0/race_1</th>\n",
       "      <th>prob_pos_race_1</th>\n",
       "    </tr>\n",
       "    <tr>\n",
       "      <th>dataset</th>\n",
       "      <th>transform</th>\n",
       "      <th>model</th>\n",
       "      <th>repeat</th>\n",
       "      <th></th>\n",
       "      <th></th>\n",
       "      <th></th>\n",
       "      <th></th>\n",
       "      <th></th>\n",
       "      <th></th>\n",
       "      <th></th>\n",
       "      <th></th>\n",
       "      <th></th>\n",
       "      <th></th>\n",
       "      <th></th>\n",
       "      <th></th>\n",
       "      <th></th>\n",
       "      <th></th>\n",
       "      <th></th>\n",
       "      <th></th>\n",
       "    </tr>\n",
       "  </thead>\n",
       "  <tbody>\n",
       "    <tr>\n",
       "      <th rowspan=\"2\" valign=\"top\">Compas Race</th>\n",
       "      <th rowspan=\"2\" valign=\"top\">no_transform</th>\n",
       "      <th>GPyT_eq_odds_in_True_0tnr_0.702_1tnr_0.702_0tpr_0.7_1tpr_0.7</th>\n",
       "      <th>0-2410</th>\n",
       "      <td>0.592382</td>\n",
       "      <td>0.554585</td>\n",
       "      <td>0.532374</td>\n",
       "      <td>0.056515</td>\n",
       "      <td>0.904031</td>\n",
       "      <td>0.588889</td>\n",
       "      <td>0.639854</td>\n",
       "      <td>0.645078</td>\n",
       "      <td>0.017749</td>\n",
       "      <td>0.972486</td>\n",
       "      <td>0.627329</td>\n",
       "      <td>0.531605</td>\n",
       "      <td>0.552927</td>\n",
       "      <td>0.061047</td>\n",
       "      <td>0.889593</td>\n",
       "      <td>0.491879</td>\n",
       "    </tr>\n",
       "    <tr>\n",
       "      <th>GPyT_eq_odds_in_False_0tnr_0.724_1tnr_0.724_0tpr_0.7_1tpr_0.7</th>\n",
       "      <th>0-2410</th>\n",
       "      <td>0.576985</td>\n",
       "      <td>0.516739</td>\n",
       "      <td>0.470024</td>\n",
       "      <td>0.118865</td>\n",
       "      <td>0.798154</td>\n",
       "      <td>0.588889</td>\n",
       "      <td>0.652651</td>\n",
       "      <td>0.663212</td>\n",
       "      <td>0.035883</td>\n",
       "      <td>0.945895</td>\n",
       "      <td>0.627329</td>\n",
       "      <td>0.558347</td>\n",
       "      <td>0.594022</td>\n",
       "      <td>0.102143</td>\n",
       "      <td>0.828048</td>\n",
       "      <td>0.491879</td>\n",
       "    </tr>\n",
       "  </tbody>\n",
       "</table>\n",
       "</div>"
      ],
      "text/plain": [
       "                                                                                    Accuracy  \\\n",
       "dataset     transform    model                                              repeat             \n",
       "Compas Race no_transform GPyT_eq_odds_in_True_0tnr_0.702_1tnr_0.702_0tpr... 0-2410  0.592382   \n",
       "                         GPyT_eq_odds_in_False_0tnr_0.724_1tnr_0.724_0tp... 0-2410  0.576985   \n",
       "\n",
       "                                                                                         TNR  \\\n",
       "dataset     transform    model                                              repeat             \n",
       "Compas Race no_transform GPyT_eq_odds_in_True_0tnr_0.702_1tnr_0.702_0tpr... 0-2410  0.554585   \n",
       "                         GPyT_eq_odds_in_False_0tnr_0.724_1tnr_0.724_0tp... 0-2410  0.516739   \n",
       "\n",
       "                                                                                    TNR_race_0  \\\n",
       "dataset     transform    model                                              repeat               \n",
       "Compas Race no_transform GPyT_eq_odds_in_True_0tnr_0.702_1tnr_0.702_0tpr... 0-2410    0.532374   \n",
       "                         GPyT_eq_odds_in_False_0tnr_0.724_1tnr_0.724_0tp... 0-2410    0.470024   \n",
       "\n",
       "                                                                                    TNR_race_0-race_1  \\\n",
       "dataset     transform    model                                              repeat                      \n",
       "Compas Race no_transform GPyT_eq_odds_in_True_0tnr_0.702_1tnr_0.702_0tpr... 0-2410           0.056515   \n",
       "                         GPyT_eq_odds_in_False_0tnr_0.724_1tnr_0.724_0tp... 0-2410           0.118865   \n",
       "\n",
       "                                                                                    TNR_race_0/race_1  \\\n",
       "dataset     transform    model                                              repeat                      \n",
       "Compas Race no_transform GPyT_eq_odds_in_True_0tnr_0.702_1tnr_0.702_0tpr... 0-2410           0.904031   \n",
       "                         GPyT_eq_odds_in_False_0tnr_0.724_1tnr_0.724_0tp... 0-2410           0.798154   \n",
       "\n",
       "                                                                                    TNR_race_1  \\\n",
       "dataset     transform    model                                              repeat               \n",
       "Compas Race no_transform GPyT_eq_odds_in_True_0tnr_0.702_1tnr_0.702_0tpr... 0-2410    0.588889   \n",
       "                         GPyT_eq_odds_in_False_0tnr_0.724_1tnr_0.724_0tp... 0-2410    0.588889   \n",
       "\n",
       "                                                                                         TPR  \\\n",
       "dataset     transform    model                                              repeat             \n",
       "Compas Race no_transform GPyT_eq_odds_in_True_0tnr_0.702_1tnr_0.702_0tpr... 0-2410  0.639854   \n",
       "                         GPyT_eq_odds_in_False_0tnr_0.724_1tnr_0.724_0tp... 0-2410  0.652651   \n",
       "\n",
       "                                                                                    TPR_race_0  \\\n",
       "dataset     transform    model                                              repeat               \n",
       "Compas Race no_transform GPyT_eq_odds_in_True_0tnr_0.702_1tnr_0.702_0tpr... 0-2410    0.645078   \n",
       "                         GPyT_eq_odds_in_False_0tnr_0.724_1tnr_0.724_0tp... 0-2410    0.663212   \n",
       "\n",
       "                                                                                    TPR_race_0-race_1  \\\n",
       "dataset     transform    model                                              repeat                      \n",
       "Compas Race no_transform GPyT_eq_odds_in_True_0tnr_0.702_1tnr_0.702_0tpr... 0-2410           0.017749   \n",
       "                         GPyT_eq_odds_in_False_0tnr_0.724_1tnr_0.724_0tp... 0-2410           0.035883   \n",
       "\n",
       "                                                                                    TPR_race_0/race_1  \\\n",
       "dataset     transform    model                                              repeat                      \n",
       "Compas Race no_transform GPyT_eq_odds_in_True_0tnr_0.702_1tnr_0.702_0tpr... 0-2410           0.972486   \n",
       "                         GPyT_eq_odds_in_False_0tnr_0.724_1tnr_0.724_0tp... 0-2410           0.945895   \n",
       "\n",
       "                                                                                    TPR_race_1  \\\n",
       "dataset     transform    model                                              repeat               \n",
       "Compas Race no_transform GPyT_eq_odds_in_True_0tnr_0.702_1tnr_0.702_0tpr... 0-2410    0.627329   \n",
       "                         GPyT_eq_odds_in_False_0tnr_0.724_1tnr_0.724_0tp... 0-2410    0.627329   \n",
       "\n",
       "                                                                                    prob_pos  \\\n",
       "dataset     transform    model                                              repeat             \n",
       "Compas Race no_transform GPyT_eq_odds_in_True_0tnr_0.702_1tnr_0.702_0tpr... 0-2410  0.531605   \n",
       "                         GPyT_eq_odds_in_False_0tnr_0.724_1tnr_0.724_0tp... 0-2410  0.558347   \n",
       "\n",
       "                                                                                    prob_pos_race_0  \\\n",
       "dataset     transform    model                                              repeat                    \n",
       "Compas Race no_transform GPyT_eq_odds_in_True_0tnr_0.702_1tnr_0.702_0tpr... 0-2410         0.552927   \n",
       "                         GPyT_eq_odds_in_False_0tnr_0.724_1tnr_0.724_0tp... 0-2410         0.594022   \n",
       "\n",
       "                                                                                    prob_pos_race_0-race_1  \\\n",
       "dataset     transform    model                                              repeat                           \n",
       "Compas Race no_transform GPyT_eq_odds_in_True_0tnr_0.702_1tnr_0.702_0tpr... 0-2410                0.061047   \n",
       "                         GPyT_eq_odds_in_False_0tnr_0.724_1tnr_0.724_0tp... 0-2410                0.102143   \n",
       "\n",
       "                                                                                    prob_pos_race_0/race_1  \\\n",
       "dataset     transform    model                                              repeat                           \n",
       "Compas Race no_transform GPyT_eq_odds_in_True_0tnr_0.702_1tnr_0.702_0tpr... 0-2410                0.889593   \n",
       "                         GPyT_eq_odds_in_False_0tnr_0.724_1tnr_0.724_0tp... 0-2410                0.828048   \n",
       "\n",
       "                                                                                    prob_pos_race_1  \n",
       "dataset     transform    model                                              repeat                   \n",
       "Compas Race no_transform GPyT_eq_odds_in_True_0tnr_0.702_1tnr_0.702_0tpr... 0-2410         0.491879  \n",
       "                         GPyT_eq_odds_in_False_0tnr_0.724_1tnr_0.724_0tp... 0-2410         0.491879  "
      ]
     },
     "execution_count": 31,
     "metadata": {},
     "output_type": "execute_result"
    }
   ],
   "source": [
    "results = evaluate_models(\n",
    "    datasets=data,\n",
    "    inprocess_models=algos,\n",
    "    metrics=[Accuracy(), ProbPos(), TPR(), TNR()],\n",
    "    per_sens_metrics=[ProbPos(), TPR(), TNR()], \n",
    "    repeats=1,\n",
    "    delete_prev=True,  # delete previous results\n",
    ")\n",
    "results"
   ]
  },
  {
   "cell_type": "code",
   "execution_count": 4,
   "metadata": {},
   "outputs": [],
   "source": [
    "train, test = train_test_split(load_data(Adult()))"
   ]
  },
  {
   "cell_type": "code",
   "execution_count": 9,
   "metadata": {},
   "outputs": [
    {
     "name": "stdout",
     "output_type": "stream",
     "text": [
      "fold_0_model_Logistic Regression_completed\n",
      "fold_0_model_Logistic Regression_completed\n",
      "fold_0_model_Logistic Regression_completed\n",
      "fold_0_model_Logistic Regression_completed\n",
      "fold_0_model_Logistic Regression_completed\n",
      "fold_0_model_Logistic Regression_completed\n",
      "fold_0_model_Logistic Regression_completed\n",
      "fold_0_model_Logistic Regression_completed\n",
      "fold_1_model_Logistic Regression_completed\n",
      "fold_1_model_Logistic Regression_completed\n",
      "fold_1_model_Logistic Regression_completed\n",
      "fold_1_model_Logistic Regression_completed\n",
      "fold_1_model_Logistic Regression_completed\n",
      "fold_1_model_Logistic Regression_completed\n",
      "fold_1_model_Logistic Regression_completed\n",
      "fold_1_model_Logistic Regression_completed\n",
      "fold_2_model_Logistic Regression_completed\n",
      "fold_2_model_Logistic Regression_completed\n",
      "fold_2_model_Logistic Regression_completed\n",
      "fold_2_model_Logistic Regression_completed\n",
      "fold_2_model_Logistic Regression_completed\n",
      "fold_2_model_Logistic Regression_completed\n",
      "fold_2_model_Logistic Regression_completed\n",
      "fold_2_model_Logistic Regression_completed\n",
      "fold_3_model_Logistic Regression_completed\n",
      "fold_3_model_Logistic Regression_completed\n",
      "fold_3_model_Logistic Regression_completed\n",
      "fold_3_model_Logistic Regression_completed\n",
      "fold_3_model_Logistic Regression_completed\n",
      "fold_3_model_Logistic Regression_completed\n",
      "fold_3_model_Logistic Regression_completed\n",
      "fold_3_model_Logistic Regression_completed\n",
      "fold_4_model_Logistic Regression_completed\n",
      "fold_4_model_Logistic Regression_completed\n",
      "fold_4_model_Logistic Regression_completed\n",
      "fold_4_model_Logistic Regression_completed\n",
      "fold_4_model_Logistic Regression_completed\n",
      "fold_4_model_Logistic Regression_completed\n",
      "fold_4_model_Logistic Regression_completed\n",
      "fold_4_model_Logistic Regression_completed\n"
     ]
    },
    {
     "data": {
      "text/plain": [
       "{'C': 0.1}"
      ]
     },
     "execution_count": 9,
     "metadata": {},
     "output_type": "execute_result"
    }
   ],
   "source": [
    "# Fair grid search\n",
    "primary = Accuracy()\n",
    "fair_measure = AbsCV()\n",
    "hyperparams = dict(C=[1, 1e-1, 1e-2, 1e-3, 1e-4, 1e-5, 1e-6, 1e-7])\n",
    "lr_cv = CrossValidator(LR, hyperparams, folds=5)\n",
    "lr_cv.run(train, measures=[primary, fair_measure])\n",
    "lr_cv.best_hyper_params(primary)"
   ]
  },
  {
   "cell_type": "code",
   "execution_count": 12,
   "metadata": {},
   "outputs": [
    {
     "name": "stdout",
     "output_type": "stream",
     "text": [
      "best accuracy: ResultTuple(params={'C': 0.1}, fold_id=-1, scores={'Accuracy': 0.8460901894581458, 'CV absolute': 0.82497297375662})\n",
      "best fair(+accuracy): ResultTuple(params={'C': 1e-06}, fold_id=-1, scores={'Accuracy': 0.7909169578659723, 'CV absolute': 0.9530144052067022})\n"
     ]
    }
   ],
   "source": [
    "lr_best_acc = lr_cv.results.get_best_result(primary)\n",
    "lr_best_fair = lr_cv.results.get_best_in_top_k(primary, fair_measure, top_k=3)\n",
    "print(\"best accuracy:\", lr_best_acc)\n",
    "print(\"best fair(+accuracy):\", lr_best_fair)"
   ]
  },
  {
   "cell_type": "code",
   "execution_count": null,
   "metadata": {},
   "outputs": [],
   "source": []
  }
 ],
 "metadata": {
  "kernelspec": {
   "display_name": "Python 3",
   "language": "python",
   "name": "python3"
  },
  "language_info": {
   "codemirror_mode": {
    "name": "ipython",
    "version": 3
   },
   "file_extension": ".py",
   "mimetype": "text/x-python",
   "name": "python",
   "nbconvert_exporter": "python",
   "pygments_lexer": "ipython3",
   "version": "3.7.1"
  }
 },
 "nbformat": 4,
 "nbformat_minor": 4
}
